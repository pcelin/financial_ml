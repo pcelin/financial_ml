{
 "cells": [
  {
   "cell_type": "markdown",
   "id": "b77c1c12",
   "metadata": {},
   "source": [
    "# ML for detecting credit card transaction fraud\n",
    "\n",
    "In this notebook I will try to optimize some ML algorithm for identifying credit card transaction fraud. This problem was proposed by Profesor Leandro Maciel from FEA-USP (Faculdade de Economia e Adminsitração da Universidade de São Paulo). He provided a dataset with credit card transactions and information about whether they are fraudulent or not. \n",
    "\n",
    "The main problem to overcome is related to unbalanced dataset. Majority of records (99.78%) aren't fraudulent, i.e. Class = 0, and using data as it is can lead to a biased algorithm towards Class = 1. We tried two different techniques for dealing with this, i.e. SMOTE and Undersampling, as so we computed different types of algorithms, such as Logistic Regression (LogReg) and Random Forest (RF). As recommended for unbalanced datasets, we used AUC and AUPRC metrics to evaluate model performance. \n",
    "\n",
    "Undersampling seemed to be the best aproach for dealing with this unbalanced dataset and since LogReg and RF performance in terms of AUC and AUPRC was simillar, we decided to use LogReg as our final model mainly because of it's simplicity. \n",
    "\n",
    "Profesor Leandro provided final test data but kept in secret the information about it's Class. We then run the selected model for test dataset and this classification was the final product of the project. Professor Leandro recieved the classification of all students' algorithms and compared each other in terms of AUC statistic. Our model had the third best AUC value for test dataset."
   ]
  },
  {
   "cell_type": "code",
   "execution_count": 1,
   "id": "b3337276",
   "metadata": {},
   "outputs": [],
   "source": [
    "import pandas as pd\n",
    "import numpy as np\n",
    "# import seaborn as sns\n",
    "import matplotlib.pyplot as plt\n",
    "from sklearn.model_selection import train_test_split\n",
    "from sklearn.ensemble import RandomForestClassifier\n",
    "from sklearn.model_selection import GridSearchCV\n",
    "from sklearn import metrics\n",
    "import time"
   ]
  },
  {
   "cell_type": "code",
   "execution_count": 2,
   "id": "9eae3bb5",
   "metadata": {},
   "outputs": [],
   "source": [
    "df = pd.read_excel('treino.xlsx')"
   ]
  },
  {
   "cell_type": "code",
   "execution_count": 3,
   "id": "7b741de7",
   "metadata": {},
   "outputs": [],
   "source": [
    "from imblearn.over_sampling import SMOTE"
   ]
  },
  {
   "cell_type": "code",
   "execution_count": 4,
   "id": "f05ab962",
   "metadata": {},
   "outputs": [
    {
     "data": {
      "text/plain": [
       "Index(['id', 'V1', 'V2', 'V3', 'V4', 'V5', 'V6', 'V7', 'V8', 'V9', 'V10',\n",
       "       'V11', 'V12', 'V13', 'V14', 'V15', 'V16', 'V17', 'V18', 'V19', 'V20',\n",
       "       'V21', 'Class'],\n",
       "      dtype='object')"
      ]
     },
     "execution_count": 4,
     "metadata": {},
     "output_type": "execute_result"
    }
   ],
   "source": [
    "df.columns"
   ]
  },
  {
   "cell_type": "markdown",
   "id": "0d8d9c45",
   "metadata": {},
   "source": [
    "Since columns are not specified, we won't consider it for feature selection"
   ]
  },
  {
   "cell_type": "code",
   "execution_count": 5,
   "id": "839e9351",
   "metadata": {},
   "outputs": [
    {
     "data": {
      "text/plain": [
       "id       0\n",
       "V1       0\n",
       "V2       0\n",
       "V3       0\n",
       "V4       0\n",
       "V5       0\n",
       "V6       0\n",
       "V7       0\n",
       "V8       0\n",
       "V9       0\n",
       "V10      0\n",
       "V11      0\n",
       "V12      0\n",
       "V13      0\n",
       "V14      0\n",
       "V15      0\n",
       "V16      0\n",
       "V17      0\n",
       "V18      0\n",
       "V19      0\n",
       "V20      0\n",
       "V21      0\n",
       "Class    0\n",
       "dtype: int64"
      ]
     },
     "execution_count": 5,
     "metadata": {},
     "output_type": "execute_result"
    }
   ],
   "source": [
    "df.isna().sum()"
   ]
  },
  {
   "cell_type": "markdown",
   "id": "ffc37250",
   "metadata": {},
   "source": [
    "Dataset does not contain any NaN values"
   ]
  },
  {
   "cell_type": "code",
   "execution_count": 6,
   "id": "a6919224",
   "metadata": {},
   "outputs": [
    {
     "data": {
      "text/html": [
       "<div>\n",
       "<style scoped>\n",
       "    .dataframe tbody tr th:only-of-type {\n",
       "        vertical-align: middle;\n",
       "    }\n",
       "\n",
       "    .dataframe tbody tr th {\n",
       "        vertical-align: top;\n",
       "    }\n",
       "\n",
       "    .dataframe thead th {\n",
       "        text-align: right;\n",
       "    }\n",
       "</style>\n",
       "<table border=\"1\" class=\"dataframe\">\n",
       "  <thead>\n",
       "    <tr style=\"text-align: right;\">\n",
       "      <th></th>\n",
       "      <th>id</th>\n",
       "      <th>V1</th>\n",
       "      <th>V2</th>\n",
       "      <th>V3</th>\n",
       "      <th>V4</th>\n",
       "      <th>V5</th>\n",
       "      <th>V6</th>\n",
       "      <th>V7</th>\n",
       "      <th>V8</th>\n",
       "      <th>V9</th>\n",
       "      <th>...</th>\n",
       "      <th>V13</th>\n",
       "      <th>V14</th>\n",
       "      <th>V15</th>\n",
       "      <th>V16</th>\n",
       "      <th>V17</th>\n",
       "      <th>V18</th>\n",
       "      <th>V19</th>\n",
       "      <th>V20</th>\n",
       "      <th>V21</th>\n",
       "      <th>Class</th>\n",
       "    </tr>\n",
       "  </thead>\n",
       "  <tbody>\n",
       "    <tr>\n",
       "      <th>count</th>\n",
       "      <td>164231.000000</td>\n",
       "      <td>164231.000000</td>\n",
       "      <td>164231.000000</td>\n",
       "      <td>164231.000000</td>\n",
       "      <td>164231.000000</td>\n",
       "      <td>164231.000000</td>\n",
       "      <td>164231.000000</td>\n",
       "      <td>164231.000000</td>\n",
       "      <td>164231.000000</td>\n",
       "      <td>164231.000000</td>\n",
       "      <td>...</td>\n",
       "      <td>164231.000000</td>\n",
       "      <td>164231.000000</td>\n",
       "      <td>164231.000000</td>\n",
       "      <td>164231.000000</td>\n",
       "      <td>164231.000000</td>\n",
       "      <td>164231.000000</td>\n",
       "      <td>164231.000000</td>\n",
       "      <td>164231.000000</td>\n",
       "      <td>164231.000000</td>\n",
       "      <td>164231.000000</td>\n",
       "    </tr>\n",
       "    <tr>\n",
       "      <th>mean</th>\n",
       "      <td>82116.000000</td>\n",
       "      <td>0.020816</td>\n",
       "      <td>0.029036</td>\n",
       "      <td>0.274890</td>\n",
       "      <td>0.023903</td>\n",
       "      <td>-0.063158</td>\n",
       "      <td>0.087255</td>\n",
       "      <td>-0.061199</td>\n",
       "      <td>0.081759</td>\n",
       "      <td>-0.048293</td>\n",
       "      <td>...</td>\n",
       "      <td>-0.011870</td>\n",
       "      <td>0.008342</td>\n",
       "      <td>0.050925</td>\n",
       "      <td>-0.005003</td>\n",
       "      <td>0.011869</td>\n",
       "      <td>-0.002755</td>\n",
       "      <td>-0.001820</td>\n",
       "      <td>0.005290</td>\n",
       "      <td>-0.012604</td>\n",
       "      <td>0.002149</td>\n",
       "    </tr>\n",
       "    <tr>\n",
       "      <th>std</th>\n",
       "      <td>47409.550367</td>\n",
       "      <td>0.709996</td>\n",
       "      <td>0.592437</td>\n",
       "      <td>0.580047</td>\n",
       "      <td>0.631710</td>\n",
       "      <td>0.547314</td>\n",
       "      <td>0.615860</td>\n",
       "      <td>0.414050</td>\n",
       "      <td>0.371658</td>\n",
       "      <td>0.520265</td>\n",
       "      <td>...</td>\n",
       "      <td>0.503129</td>\n",
       "      <td>0.387392</td>\n",
       "      <td>0.450866</td>\n",
       "      <td>0.395180</td>\n",
       "      <td>0.340751</td>\n",
       "      <td>0.395404</td>\n",
       "      <td>0.376164</td>\n",
       "      <td>0.226855</td>\n",
       "      <td>0.219044</td>\n",
       "      <td>0.046312</td>\n",
       "    </tr>\n",
       "    <tr>\n",
       "      <th>min</th>\n",
       "      <td>1.000000</td>\n",
       "      <td>-14.903862</td>\n",
       "      <td>-19.758520</td>\n",
       "      <td>-9.861436</td>\n",
       "      <td>-2.631825</td>\n",
       "      <td>-18.795629</td>\n",
       "      <td>-8.178917</td>\n",
       "      <td>-10.938095</td>\n",
       "      <td>-14.285038</td>\n",
       "      <td>-4.378475</td>\n",
       "      <td>...</td>\n",
       "      <td>-2.186889</td>\n",
       "      <td>-6.544954</td>\n",
       "      <td>-2.077864</td>\n",
       "      <td>-5.869785</td>\n",
       "      <td>-9.552718</td>\n",
       "      <td>-2.992795</td>\n",
       "      <td>-2.140814</td>\n",
       "      <td>-9.339533</td>\n",
       "      <td>-7.344810</td>\n",
       "      <td>0.000000</td>\n",
       "    </tr>\n",
       "    <tr>\n",
       "      <th>25%</th>\n",
       "      <td>41058.500000</td>\n",
       "      <td>-0.445887</td>\n",
       "      <td>-0.296836</td>\n",
       "      <td>-0.048311</td>\n",
       "      <td>-0.398327</td>\n",
       "      <td>-0.422133</td>\n",
       "      <td>-0.311252</td>\n",
       "      <td>-0.326514</td>\n",
       "      <td>-0.046780</td>\n",
       "      <td>-0.369624</td>\n",
       "      <td>...</td>\n",
       "      <td>-0.341358</td>\n",
       "      <td>-0.178984</td>\n",
       "      <td>-0.241970</td>\n",
       "      <td>-0.242971</td>\n",
       "      <td>-0.217476</td>\n",
       "      <td>-0.237657</td>\n",
       "      <td>-0.234916</td>\n",
       "      <td>-0.087263</td>\n",
       "      <td>-0.091830</td>\n",
       "      <td>0.000000</td>\n",
       "    </tr>\n",
       "    <tr>\n",
       "      <th>50%</th>\n",
       "      <td>82116.000000</td>\n",
       "      <td>-0.026290</td>\n",
       "      <td>0.023532</td>\n",
       "      <td>0.359776</td>\n",
       "      <td>0.018997</td>\n",
       "      <td>-0.087875</td>\n",
       "      <td>-0.027857</td>\n",
       "      <td>-0.048578</td>\n",
       "      <td>0.069393</td>\n",
       "      <td>-0.087079</td>\n",
       "      <td>...</td>\n",
       "      <td>-0.021518</td>\n",
       "      <td>0.007464</td>\n",
       "      <td>0.085418</td>\n",
       "      <td>0.015863</td>\n",
       "      <td>-0.017930</td>\n",
       "      <td>-0.004414</td>\n",
       "      <td>0.002972</td>\n",
       "      <td>-0.017977</td>\n",
       "      <td>-0.018410</td>\n",
       "      <td>0.000000</td>\n",
       "    </tr>\n",
       "    <tr>\n",
       "      <th>75%</th>\n",
       "      <td>123173.500000</td>\n",
       "      <td>0.590285</td>\n",
       "      <td>0.422750</td>\n",
       "      <td>0.651813</td>\n",
       "      <td>0.456228</td>\n",
       "      <td>0.209398</td>\n",
       "      <td>0.269618</td>\n",
       "      <td>0.201480</td>\n",
       "      <td>0.217418</td>\n",
       "      <td>0.262494</td>\n",
       "      <td>...</td>\n",
       "      <td>0.318814</td>\n",
       "      <td>0.206405</td>\n",
       "      <td>0.398215</td>\n",
       "      <td>0.257137</td>\n",
       "      <td>0.200453</td>\n",
       "      <td>0.241715</td>\n",
       "      <td>0.236165</td>\n",
       "      <td>0.067870</td>\n",
       "      <td>0.060383</td>\n",
       "      <td>0.000000</td>\n",
       "    </tr>\n",
       "    <tr>\n",
       "      <th>max</th>\n",
       "      <td>164231.000000</td>\n",
       "      <td>1.215247</td>\n",
       "      <td>8.034236</td>\n",
       "      <td>3.072789</td>\n",
       "      <td>6.134471</td>\n",
       "      <td>11.412148</td>\n",
       "      <td>8.116984</td>\n",
       "      <td>19.912049</td>\n",
       "      <td>9.135293</td>\n",
       "      <td>6.711957</td>\n",
       "      <td>...</td>\n",
       "      <td>1.996423</td>\n",
       "      <td>3.037430</td>\n",
       "      <td>2.346662</td>\n",
       "      <td>2.917496</td>\n",
       "      <td>3.663483</td>\n",
       "      <td>1.941749</td>\n",
       "      <td>2.045487</td>\n",
       "      <td>6.792875</td>\n",
       "      <td>11.031473</td>\n",
       "      <td>1.000000</td>\n",
       "    </tr>\n",
       "  </tbody>\n",
       "</table>\n",
       "<p>8 rows × 23 columns</p>\n",
       "</div>"
      ],
      "text/plain": [
       "                  id             V1             V2             V3  \\\n",
       "count  164231.000000  164231.000000  164231.000000  164231.000000   \n",
       "mean    82116.000000       0.020816       0.029036       0.274890   \n",
       "std     47409.550367       0.709996       0.592437       0.580047   \n",
       "min         1.000000     -14.903862     -19.758520      -9.861436   \n",
       "25%     41058.500000      -0.445887      -0.296836      -0.048311   \n",
       "50%     82116.000000      -0.026290       0.023532       0.359776   \n",
       "75%    123173.500000       0.590285       0.422750       0.651813   \n",
       "max    164231.000000       1.215247       8.034236       3.072789   \n",
       "\n",
       "                  V4             V5             V6             V7  \\\n",
       "count  164231.000000  164231.000000  164231.000000  164231.000000   \n",
       "mean        0.023903      -0.063158       0.087255      -0.061199   \n",
       "std         0.631710       0.547314       0.615860       0.414050   \n",
       "min        -2.631825     -18.795629      -8.178917     -10.938095   \n",
       "25%        -0.398327      -0.422133      -0.311252      -0.326514   \n",
       "50%         0.018997      -0.087875      -0.027857      -0.048578   \n",
       "75%         0.456228       0.209398       0.269618       0.201480   \n",
       "max         6.134471      11.412148       8.116984      19.912049   \n",
       "\n",
       "                  V8             V9  ...            V13            V14  \\\n",
       "count  164231.000000  164231.000000  ...  164231.000000  164231.000000   \n",
       "mean        0.081759      -0.048293  ...      -0.011870       0.008342   \n",
       "std         0.371658       0.520265  ...       0.503129       0.387392   \n",
       "min       -14.285038      -4.378475  ...      -2.186889      -6.544954   \n",
       "25%        -0.046780      -0.369624  ...      -0.341358      -0.178984   \n",
       "50%         0.069393      -0.087079  ...      -0.021518       0.007464   \n",
       "75%         0.217418       0.262494  ...       0.318814       0.206405   \n",
       "max         9.135293       6.711957  ...       1.996423       3.037430   \n",
       "\n",
       "                 V15            V16            V17            V18  \\\n",
       "count  164231.000000  164231.000000  164231.000000  164231.000000   \n",
       "mean        0.050925      -0.005003       0.011869      -0.002755   \n",
       "std         0.450866       0.395180       0.340751       0.395404   \n",
       "min        -2.077864      -5.869785      -9.552718      -2.992795   \n",
       "25%        -0.241970      -0.242971      -0.217476      -0.237657   \n",
       "50%         0.085418       0.015863      -0.017930      -0.004414   \n",
       "75%         0.398215       0.257137       0.200453       0.241715   \n",
       "max         2.346662       2.917496       3.663483       1.941749   \n",
       "\n",
       "                 V19            V20            V21          Class  \n",
       "count  164231.000000  164231.000000  164231.000000  164231.000000  \n",
       "mean       -0.001820       0.005290      -0.012604       0.002149  \n",
       "std         0.376164       0.226855       0.219044       0.046312  \n",
       "min        -2.140814      -9.339533      -7.344810       0.000000  \n",
       "25%        -0.234916      -0.087263      -0.091830       0.000000  \n",
       "50%         0.002972      -0.017977      -0.018410       0.000000  \n",
       "75%         0.236165       0.067870       0.060383       0.000000  \n",
       "max         2.045487       6.792875      11.031473       1.000000  \n",
       "\n",
       "[8 rows x 23 columns]"
      ]
     },
     "execution_count": 6,
     "metadata": {},
     "output_type": "execute_result"
    }
   ],
   "source": [
    "df.describe()"
   ]
  },
  {
   "cell_type": "code",
   "execution_count": 7,
   "id": "7785015d",
   "metadata": {},
   "outputs": [],
   "source": [
    "df = df.set_index('id')"
   ]
  },
  {
   "cell_type": "code",
   "execution_count": 8,
   "id": "d6221e96",
   "metadata": {},
   "outputs": [
    {
     "data": {
      "text/html": [
       "<div>\n",
       "<style scoped>\n",
       "    .dataframe tbody tr th:only-of-type {\n",
       "        vertical-align: middle;\n",
       "    }\n",
       "\n",
       "    .dataframe tbody tr th {\n",
       "        vertical-align: top;\n",
       "    }\n",
       "\n",
       "    .dataframe thead th {\n",
       "        text-align: right;\n",
       "    }\n",
       "</style>\n",
       "<table border=\"1\" class=\"dataframe\">\n",
       "  <thead>\n",
       "    <tr style=\"text-align: right;\">\n",
       "      <th></th>\n",
       "      <th>V1</th>\n",
       "      <th>V2</th>\n",
       "      <th>V3</th>\n",
       "      <th>V4</th>\n",
       "      <th>V5</th>\n",
       "      <th>V6</th>\n",
       "      <th>V7</th>\n",
       "      <th>V8</th>\n",
       "      <th>V9</th>\n",
       "      <th>V10</th>\n",
       "      <th>...</th>\n",
       "      <th>V13</th>\n",
       "      <th>V14</th>\n",
       "      <th>V15</th>\n",
       "      <th>V16</th>\n",
       "      <th>V17</th>\n",
       "      <th>V18</th>\n",
       "      <th>V19</th>\n",
       "      <th>V20</th>\n",
       "      <th>V21</th>\n",
       "      <th>Class</th>\n",
       "    </tr>\n",
       "    <tr>\n",
       "      <th>id</th>\n",
       "      <th></th>\n",
       "      <th></th>\n",
       "      <th></th>\n",
       "      <th></th>\n",
       "      <th></th>\n",
       "      <th></th>\n",
       "      <th></th>\n",
       "      <th></th>\n",
       "      <th></th>\n",
       "      <th></th>\n",
       "      <th></th>\n",
       "      <th></th>\n",
       "      <th></th>\n",
       "      <th></th>\n",
       "      <th></th>\n",
       "      <th></th>\n",
       "      <th></th>\n",
       "      <th></th>\n",
       "      <th></th>\n",
       "      <th></th>\n",
       "      <th></th>\n",
       "    </tr>\n",
       "  </thead>\n",
       "  <tbody>\n",
       "    <tr>\n",
       "      <th>1</th>\n",
       "      <td>-0.299468</td>\n",
       "      <td>0.533339</td>\n",
       "      <td>0.592928</td>\n",
       "      <td>0.094916</td>\n",
       "      <td>0.015414</td>\n",
       "      <td>0.019142</td>\n",
       "      <td>0.045814</td>\n",
       "      <td>0.177430</td>\n",
       "      <td>-0.040845</td>\n",
       "      <td>-0.201868</td>\n",
       "      <td>...</td>\n",
       "      <td>-0.006907</td>\n",
       "      <td>0.082039</td>\n",
       "      <td>0.783691</td>\n",
       "      <td>0.046401</td>\n",
       "      <td>-0.181900</td>\n",
       "      <td>0.201659</td>\n",
       "      <td>0.186339</td>\n",
       "      <td>0.052175</td>\n",
       "      <td>0.081669</td>\n",
       "      <td>0</td>\n",
       "    </tr>\n",
       "    <tr>\n",
       "      <th>2</th>\n",
       "      <td>0.529493</td>\n",
       "      <td>-0.094837</td>\n",
       "      <td>0.341711</td>\n",
       "      <td>0.568313</td>\n",
       "      <td>-0.318345</td>\n",
       "      <td>0.201856</td>\n",
       "      <td>-0.302414</td>\n",
       "      <td>0.208240</td>\n",
       "      <td>0.290601</td>\n",
       "      <td>-0.005605</td>\n",
       "      <td>...</td>\n",
       "      <td>-0.934574</td>\n",
       "      <td>0.248362</td>\n",
       "      <td>0.231307</td>\n",
       "      <td>-0.121390</td>\n",
       "      <td>0.045858</td>\n",
       "      <td>-0.088862</td>\n",
       "      <td>-0.320489</td>\n",
       "      <td>-0.132945</td>\n",
       "      <td>0.051778</td>\n",
       "      <td>0</td>\n",
       "    </tr>\n",
       "    <tr>\n",
       "      <th>3</th>\n",
       "      <td>0.605630</td>\n",
       "      <td>-0.024632</td>\n",
       "      <td>-0.042535</td>\n",
       "      <td>-0.023267</td>\n",
       "      <td>-0.135464</td>\n",
       "      <td>-0.141456</td>\n",
       "      <td>0.093773</td>\n",
       "      <td>-0.093751</td>\n",
       "      <td>-0.586908</td>\n",
       "      <td>0.282549</td>\n",
       "      <td>...</td>\n",
       "      <td>0.681119</td>\n",
       "      <td>-0.082467</td>\n",
       "      <td>-0.037362</td>\n",
       "      <td>-0.923501</td>\n",
       "      <td>0.024895</td>\n",
       "      <td>0.135814</td>\n",
       "      <td>-0.367899</td>\n",
       "      <td>-0.084424</td>\n",
       "      <td>-0.273891</td>\n",
       "      <td>0</td>\n",
       "    </tr>\n",
       "    <tr>\n",
       "      <th>4</th>\n",
       "      <td>-0.346173</td>\n",
       "      <td>0.647783</td>\n",
       "      <td>0.473604</td>\n",
       "      <td>-0.165712</td>\n",
       "      <td>0.127780</td>\n",
       "      <td>-0.221239</td>\n",
       "      <td>0.295904</td>\n",
       "      <td>0.076857</td>\n",
       "      <td>-0.220782</td>\n",
       "      <td>-0.110628</td>\n",
       "      <td>...</td>\n",
       "      <td>0.560604</td>\n",
       "      <td>0.001884</td>\n",
       "      <td>0.409169</td>\n",
       "      <td>0.236170</td>\n",
       "      <td>-0.362497</td>\n",
       "      <td>-0.085438</td>\n",
       "      <td>0.210089</td>\n",
       "      <td>0.112295</td>\n",
       "      <td>-0.136954</td>\n",
       "      <td>0</td>\n",
       "    </tr>\n",
       "    <tr>\n",
       "      <th>5</th>\n",
       "      <td>0.240050</td>\n",
       "      <td>-0.688908</td>\n",
       "      <td>0.525568</td>\n",
       "      <td>0.434648</td>\n",
       "      <td>-0.371745</td>\n",
       "      <td>0.799044</td>\n",
       "      <td>-0.332958</td>\n",
       "      <td>0.227423</td>\n",
       "      <td>0.783561</td>\n",
       "      <td>-0.423634</td>\n",
       "      <td>...</td>\n",
       "      <td>0.561863</td>\n",
       "      <td>-0.483898</td>\n",
       "      <td>0.041915</td>\n",
       "      <td>-0.616440</td>\n",
       "      <td>0.548586</td>\n",
       "      <td>-0.956886</td>\n",
       "      <td>-0.379454</td>\n",
       "      <td>0.235959</td>\n",
       "      <td>0.035924</td>\n",
       "      <td>0</td>\n",
       "    </tr>\n",
       "  </tbody>\n",
       "</table>\n",
       "<p>5 rows × 22 columns</p>\n",
       "</div>"
      ],
      "text/plain": [
       "          V1        V2        V3        V4        V5        V6        V7  \\\n",
       "id                                                                         \n",
       "1  -0.299468  0.533339  0.592928  0.094916  0.015414  0.019142  0.045814   \n",
       "2   0.529493 -0.094837  0.341711  0.568313 -0.318345  0.201856 -0.302414   \n",
       "3   0.605630 -0.024632 -0.042535 -0.023267 -0.135464 -0.141456  0.093773   \n",
       "4  -0.346173  0.647783  0.473604 -0.165712  0.127780 -0.221239  0.295904   \n",
       "5   0.240050 -0.688908  0.525568  0.434648 -0.371745  0.799044 -0.332958   \n",
       "\n",
       "          V8        V9       V10  ...       V13       V14       V15       V16  \\\n",
       "id                                ...                                           \n",
       "1   0.177430 -0.040845 -0.201868  ... -0.006907  0.082039  0.783691  0.046401   \n",
       "2   0.208240  0.290601 -0.005605  ... -0.934574  0.248362  0.231307 -0.121390   \n",
       "3  -0.093751 -0.586908  0.282549  ...  0.681119 -0.082467 -0.037362 -0.923501   \n",
       "4   0.076857 -0.220782 -0.110628  ...  0.560604  0.001884  0.409169  0.236170   \n",
       "5   0.227423  0.783561 -0.423634  ...  0.561863 -0.483898  0.041915 -0.616440   \n",
       "\n",
       "         V17       V18       V19       V20       V21  Class  \n",
       "id                                                           \n",
       "1  -0.181900  0.201659  0.186339  0.052175  0.081669      0  \n",
       "2   0.045858 -0.088862 -0.320489 -0.132945  0.051778      0  \n",
       "3   0.024895  0.135814 -0.367899 -0.084424 -0.273891      0  \n",
       "4  -0.362497 -0.085438  0.210089  0.112295 -0.136954      0  \n",
       "5   0.548586 -0.956886 -0.379454  0.235959  0.035924      0  \n",
       "\n",
       "[5 rows x 22 columns]"
      ]
     },
     "execution_count": 8,
     "metadata": {},
     "output_type": "execute_result"
    }
   ],
   "source": [
    "df.head()"
   ]
  },
  {
   "cell_type": "markdown",
   "id": "da8e7508",
   "metadata": {},
   "source": [
    "Class = 0 are licit transactions and class = 1 ilicit ones. The main problem with this dataset is unbalanced classes. Let's check it"
   ]
  },
  {
   "cell_type": "code",
   "execution_count": 9,
   "id": "f1e33e20",
   "metadata": {},
   "outputs": [
    {
     "data": {
      "text/plain": [
       "0.997850588500344"
      ]
     },
     "execution_count": 9,
     "metadata": {},
     "output_type": "execute_result"
    }
   ],
   "source": [
    "(len(df) - len(df[df['Class'] == 1]))/len(df)"
   ]
  },
  {
   "cell_type": "markdown",
   "id": "79088e24",
   "metadata": {},
   "source": [
    "99.78% of dataset has Class = 0. Running model with such unbalanced dataset can lead to bias toward the majority class, poor generalization and overfiting."
   ]
  },
  {
   "cell_type": "code",
   "execution_count": 10,
   "id": "9c1d95b3",
   "metadata": {},
   "outputs": [],
   "source": [
    "# Split dataset into features and labels\n",
    "labels = df.Class\n",
    "features = df.drop('Class', axis =1) # axis=1 is used to drop column"
   ]
  },
  {
   "cell_type": "code",
   "execution_count": 11,
   "id": "9b2cfd2d",
   "metadata": {},
   "outputs": [
    {
     "data": {
      "text/html": [
       "<div>\n",
       "<style scoped>\n",
       "    .dataframe tbody tr th:only-of-type {\n",
       "        vertical-align: middle;\n",
       "    }\n",
       "\n",
       "    .dataframe tbody tr th {\n",
       "        vertical-align: top;\n",
       "    }\n",
       "\n",
       "    .dataframe thead th {\n",
       "        text-align: right;\n",
       "    }\n",
       "</style>\n",
       "<table border=\"1\" class=\"dataframe\">\n",
       "  <thead>\n",
       "    <tr style=\"text-align: right;\">\n",
       "      <th></th>\n",
       "      <th>V1</th>\n",
       "      <th>V2</th>\n",
       "      <th>V3</th>\n",
       "      <th>V4</th>\n",
       "      <th>V5</th>\n",
       "      <th>V6</th>\n",
       "      <th>V7</th>\n",
       "      <th>V8</th>\n",
       "      <th>V9</th>\n",
       "      <th>V10</th>\n",
       "      <th>...</th>\n",
       "      <th>V12</th>\n",
       "      <th>V13</th>\n",
       "      <th>V14</th>\n",
       "      <th>V15</th>\n",
       "      <th>V16</th>\n",
       "      <th>V17</th>\n",
       "      <th>V18</th>\n",
       "      <th>V19</th>\n",
       "      <th>V20</th>\n",
       "      <th>V21</th>\n",
       "    </tr>\n",
       "    <tr>\n",
       "      <th>id</th>\n",
       "      <th></th>\n",
       "      <th></th>\n",
       "      <th></th>\n",
       "      <th></th>\n",
       "      <th></th>\n",
       "      <th></th>\n",
       "      <th></th>\n",
       "      <th></th>\n",
       "      <th></th>\n",
       "      <th></th>\n",
       "      <th></th>\n",
       "      <th></th>\n",
       "      <th></th>\n",
       "      <th></th>\n",
       "      <th></th>\n",
       "      <th></th>\n",
       "      <th></th>\n",
       "      <th></th>\n",
       "      <th></th>\n",
       "      <th></th>\n",
       "      <th></th>\n",
       "    </tr>\n",
       "  </thead>\n",
       "  <tbody>\n",
       "    <tr>\n",
       "      <th>1</th>\n",
       "      <td>-0.299468</td>\n",
       "      <td>0.533339</td>\n",
       "      <td>0.592928</td>\n",
       "      <td>0.094916</td>\n",
       "      <td>0.015414</td>\n",
       "      <td>0.019142</td>\n",
       "      <td>0.045814</td>\n",
       "      <td>0.177430</td>\n",
       "      <td>-0.040845</td>\n",
       "      <td>-0.201868</td>\n",
       "      <td>...</td>\n",
       "      <td>-0.165179</td>\n",
       "      <td>-0.006907</td>\n",
       "      <td>0.082039</td>\n",
       "      <td>0.783691</td>\n",
       "      <td>0.046401</td>\n",
       "      <td>-0.181900</td>\n",
       "      <td>0.201659</td>\n",
       "      <td>0.186339</td>\n",
       "      <td>0.052175</td>\n",
       "      <td>0.081669</td>\n",
       "    </tr>\n",
       "    <tr>\n",
       "      <th>2</th>\n",
       "      <td>0.529493</td>\n",
       "      <td>-0.094837</td>\n",
       "      <td>0.341711</td>\n",
       "      <td>0.568313</td>\n",
       "      <td>-0.318345</td>\n",
       "      <td>0.201856</td>\n",
       "      <td>-0.302414</td>\n",
       "      <td>0.208240</td>\n",
       "      <td>0.290601</td>\n",
       "      <td>-0.005605</td>\n",
       "      <td>...</td>\n",
       "      <td>0.176963</td>\n",
       "      <td>-0.934574</td>\n",
       "      <td>0.248362</td>\n",
       "      <td>0.231307</td>\n",
       "      <td>-0.121390</td>\n",
       "      <td>0.045858</td>\n",
       "      <td>-0.088862</td>\n",
       "      <td>-0.320489</td>\n",
       "      <td>-0.132945</td>\n",
       "      <td>0.051778</td>\n",
       "    </tr>\n",
       "    <tr>\n",
       "      <th>3</th>\n",
       "      <td>0.605630</td>\n",
       "      <td>-0.024632</td>\n",
       "      <td>-0.042535</td>\n",
       "      <td>-0.023267</td>\n",
       "      <td>-0.135464</td>\n",
       "      <td>-0.141456</td>\n",
       "      <td>0.093773</td>\n",
       "      <td>-0.093751</td>\n",
       "      <td>-0.586908</td>\n",
       "      <td>0.282549</td>\n",
       "      <td>...</td>\n",
       "      <td>0.354953</td>\n",
       "      <td>0.681119</td>\n",
       "      <td>-0.082467</td>\n",
       "      <td>-0.037362</td>\n",
       "      <td>-0.923501</td>\n",
       "      <td>0.024895</td>\n",
       "      <td>0.135814</td>\n",
       "      <td>-0.367899</td>\n",
       "      <td>-0.084424</td>\n",
       "      <td>-0.273891</td>\n",
       "    </tr>\n",
       "    <tr>\n",
       "      <th>4</th>\n",
       "      <td>-0.346173</td>\n",
       "      <td>0.647783</td>\n",
       "      <td>0.473604</td>\n",
       "      <td>-0.165712</td>\n",
       "      <td>0.127780</td>\n",
       "      <td>-0.221239</td>\n",
       "      <td>0.295904</td>\n",
       "      <td>0.076857</td>\n",
       "      <td>-0.220782</td>\n",
       "      <td>-0.110628</td>\n",
       "      <td>...</td>\n",
       "      <td>0.101733</td>\n",
       "      <td>0.560604</td>\n",
       "      <td>0.001884</td>\n",
       "      <td>0.409169</td>\n",
       "      <td>0.236170</td>\n",
       "      <td>-0.362497</td>\n",
       "      <td>-0.085438</td>\n",
       "      <td>0.210089</td>\n",
       "      <td>0.112295</td>\n",
       "      <td>-0.136954</td>\n",
       "    </tr>\n",
       "    <tr>\n",
       "      <th>5</th>\n",
       "      <td>0.240050</td>\n",
       "      <td>-0.688908</td>\n",
       "      <td>0.525568</td>\n",
       "      <td>0.434648</td>\n",
       "      <td>-0.371745</td>\n",
       "      <td>0.799044</td>\n",
       "      <td>-0.332958</td>\n",
       "      <td>0.227423</td>\n",
       "      <td>0.783561</td>\n",
       "      <td>-0.423634</td>\n",
       "      <td>...</td>\n",
       "      <td>0.816570</td>\n",
       "      <td>0.561863</td>\n",
       "      <td>-0.483898</td>\n",
       "      <td>0.041915</td>\n",
       "      <td>-0.616440</td>\n",
       "      <td>0.548586</td>\n",
       "      <td>-0.956886</td>\n",
       "      <td>-0.379454</td>\n",
       "      <td>0.235959</td>\n",
       "      <td>0.035924</td>\n",
       "    </tr>\n",
       "  </tbody>\n",
       "</table>\n",
       "<p>5 rows × 21 columns</p>\n",
       "</div>"
      ],
      "text/plain": [
       "          V1        V2        V3        V4        V5        V6        V7  \\\n",
       "id                                                                         \n",
       "1  -0.299468  0.533339  0.592928  0.094916  0.015414  0.019142  0.045814   \n",
       "2   0.529493 -0.094837  0.341711  0.568313 -0.318345  0.201856 -0.302414   \n",
       "3   0.605630 -0.024632 -0.042535 -0.023267 -0.135464 -0.141456  0.093773   \n",
       "4  -0.346173  0.647783  0.473604 -0.165712  0.127780 -0.221239  0.295904   \n",
       "5   0.240050 -0.688908  0.525568  0.434648 -0.371745  0.799044 -0.332958   \n",
       "\n",
       "          V8        V9       V10  ...       V12       V13       V14       V15  \\\n",
       "id                                ...                                           \n",
       "1   0.177430 -0.040845 -0.201868  ... -0.165179 -0.006907  0.082039  0.783691   \n",
       "2   0.208240  0.290601 -0.005605  ...  0.176963 -0.934574  0.248362  0.231307   \n",
       "3  -0.093751 -0.586908  0.282549  ...  0.354953  0.681119 -0.082467 -0.037362   \n",
       "4   0.076857 -0.220782 -0.110628  ...  0.101733  0.560604  0.001884  0.409169   \n",
       "5   0.227423  0.783561 -0.423634  ...  0.816570  0.561863 -0.483898  0.041915   \n",
       "\n",
       "         V16       V17       V18       V19       V20       V21  \n",
       "id                                                              \n",
       "1   0.046401 -0.181900  0.201659  0.186339  0.052175  0.081669  \n",
       "2  -0.121390  0.045858 -0.088862 -0.320489 -0.132945  0.051778  \n",
       "3  -0.923501  0.024895  0.135814 -0.367899 -0.084424 -0.273891  \n",
       "4   0.236170 -0.362497 -0.085438  0.210089  0.112295 -0.136954  \n",
       "5  -0.616440  0.548586 -0.956886 -0.379454  0.235959  0.035924  \n",
       "\n",
       "[5 rows x 21 columns]"
      ]
     },
     "execution_count": 11,
     "metadata": {},
     "output_type": "execute_result"
    }
   ],
   "source": [
    "features.head()"
   ]
  },
  {
   "cell_type": "markdown",
   "id": "00f7dfd1",
   "metadata": {},
   "source": [
    "# SMOTE"
   ]
  },
  {
   "cell_type": "code",
   "execution_count": 12,
   "id": "18c6a71f",
   "metadata": {},
   "outputs": [],
   "source": [
    "X_train, X_val, y_train, y_val = train_test_split(features, labels, test_size=0.25, random_state = 5)"
   ]
  },
  {
   "cell_type": "code",
   "execution_count": 13,
   "id": "3f2d770c",
   "metadata": {},
   "outputs": [
    {
     "name": "stdout",
     "output_type": "stream",
     "text": [
      "Training set class distribution:\n",
      "Class\n",
      "0    0.997849\n",
      "1    0.002151\n",
      "Name: proportion, dtype: float64\n"
     ]
    }
   ],
   "source": [
    "train_class_distribution = y_train.value_counts(normalize=True)\n",
    "print(\"Training set class distribution:\")\n",
    "print(train_class_distribution)"
   ]
  },
  {
   "cell_type": "code",
   "execution_count": 14,
   "id": "9ee4d9f7",
   "metadata": {},
   "outputs": [
    {
     "name": "stdout",
     "output_type": "stream",
     "text": [
      "\n",
      "Validating set class distribution:\n",
      "Class\n",
      "0    0.997857\n",
      "1    0.002143\n",
      "Name: proportion, dtype: float64\n"
     ]
    }
   ],
   "source": [
    "test_class_distribution = y_val.value_counts(normalize=True)\n",
    "print(\"\\nValidating set class distribution:\")\n",
    "print(test_class_distribution)"
   ]
  },
  {
   "cell_type": "markdown",
   "id": "216b4976",
   "metadata": {},
   "source": [
    "Training and validating set have similar class distribution"
   ]
  },
  {
   "cell_type": "code",
   "execution_count": 15,
   "id": "a4a295f3",
   "metadata": {},
   "outputs": [
    {
     "data": {
      "text/plain": [
       "id\n",
       "34129     1\n",
       "95194     1\n",
       "24066     1\n",
       "139050    1\n",
       "139596    1\n",
       "         ..\n",
       "15256     1\n",
       "141980    1\n",
       "148882    1\n",
       "9595      1\n",
       "32185     1\n",
       "Name: Class, Length: 88, dtype: int64"
      ]
     },
     "execution_count": 15,
     "metadata": {},
     "output_type": "execute_result"
    }
   ],
   "source": [
    "y_val[y_val == 1]"
   ]
  },
  {
   "cell_type": "code",
   "execution_count": 16,
   "id": "8f2900fd",
   "metadata": {},
   "outputs": [],
   "source": [
    "from sklearn.linear_model import LogisticRegression\n",
    "from sklearn.metrics import confusion_matrix\n",
    "# criando o classificador\n",
    "clf = LogisticRegression(random_state=0, max_iter=10000).fit(X_train, y_train)"
   ]
  },
  {
   "cell_type": "code",
   "execution_count": 17,
   "id": "24fa2b00",
   "metadata": {},
   "outputs": [],
   "source": [
    "y_pred = clf.predict(X_val)"
   ]
  },
  {
   "cell_type": "code",
   "execution_count": 18,
   "id": "e22a098f",
   "metadata": {},
   "outputs": [
    {
     "data": {
      "text/plain": [
       "array([[40965,     5],\n",
       "       [   86,     2]])"
      ]
     },
     "execution_count": 18,
     "metadata": {},
     "output_type": "execute_result"
    }
   ],
   "source": [
    "confusion_matrix(y_val, y_pred)"
   ]
  },
  {
   "cell_type": "code",
   "execution_count": 19,
   "id": "723b7fd6",
   "metadata": {},
   "outputs": [
    {
     "name": "stdout",
     "output_type": "stream",
     "text": [
      "AUPRC: 0.008588104379423976\n",
      "AUC: 0.5113026161049105\n"
     ]
    }
   ],
   "source": [
    "from sklearn.metrics import average_precision_score\n",
    "from sklearn.metrics import roc_auc_score\n",
    "\n",
    "auprc = average_precision_score(y_val, y_pred)\n",
    "auc = roc_auc_score(y_val, y_pred)\n",
    "\n",
    "print(\"AUPRC:\", auprc)\n",
    "print(\"AUC:\", auc)"
   ]
  },
  {
   "cell_type": "code",
   "execution_count": 20,
   "id": "1079b5a6",
   "metadata": {},
   "outputs": [],
   "source": [
    "from imblearn.over_sampling import SMOTE\n",
    "smote = SMOTE(random_state = 101)\n",
    "X_resampled, y_resampled = smote.fit_resample(X_train,y_train)"
   ]
  },
  {
   "cell_type": "code",
   "execution_count": 21,
   "id": "c22d6257",
   "metadata": {},
   "outputs": [
    {
     "name": "stdout",
     "output_type": "stream",
     "text": [
      "Training set class distribution:\n",
      "Class\n",
      "0    0.5\n",
      "1    0.5\n",
      "Name: proportion, dtype: float64\n"
     ]
    }
   ],
   "source": [
    "train_class_distribution = y_resampled.value_counts(normalize=True)\n",
    "print(\"Training set class distribution:\")\n",
    "print(train_class_distribution)                              "
   ]
  },
  {
   "cell_type": "code",
   "execution_count": 22,
   "id": "9a155fc2",
   "metadata": {},
   "outputs": [],
   "source": [
    "# 2 try using X_resampled and y_resampled\n",
    "clf_2 = LogisticRegression(random_state=0, max_iter=10000).fit(X_resampled, y_resampled)\n",
    "y_pred_2 = clf_2.predict(X_val)"
   ]
  },
  {
   "cell_type": "code",
   "execution_count": 23,
   "id": "076d628c",
   "metadata": {},
   "outputs": [
    {
     "data": {
      "text/plain": [
       "array([[31316,  9654],\n",
       "       [   25,    63]])"
      ]
     },
     "execution_count": 23,
     "metadata": {},
     "output_type": "execute_result"
    }
   ],
   "source": [
    "confusion_matrix(y_val, y_pred_2)"
   ]
  },
  {
   "cell_type": "code",
   "execution_count": 24,
   "id": "f7bd97ed",
   "metadata": {},
   "outputs": [],
   "source": [
    "auprc_2 = average_precision_score(y_val, y_pred_2)\n",
    "auc_2 = roc_auc_score(y_val, y_pred_2)"
   ]
  },
  {
   "cell_type": "code",
   "execution_count": 25,
   "id": "9a1a7c2b",
   "metadata": {},
   "outputs": [
    {
     "name": "stdout",
     "output_type": "stream",
     "text": [
      "AUPRC: 0.008588104379423976\n",
      "AUC: 0.5113026161049105\n",
      "AUPRC 2: 0.005250478837115914\n",
      "AUC 2: 0.7401366299065835\n"
     ]
    }
   ],
   "source": [
    "print(\"AUPRC:\", auprc)\n",
    "print(\"AUC:\", auc)\n",
    "\n",
    "print(\"AUPRC 2:\", auprc_2)\n",
    "print(\"AUC 2:\", auc_2)"
   ]
  },
  {
   "cell_type": "markdown",
   "id": "229f34cf",
   "metadata": {},
   "source": [
    "# Random Forest"
   ]
  },
  {
   "cell_type": "code",
   "execution_count": 26,
   "id": "fd62977a",
   "metadata": {},
   "outputs": [],
   "source": [
    "# Using Grid Search to find the best parameters\n",
    "param_grid = {\n",
    "    'n_estimators': [50],\n",
    "    'max_depth' : [None,5,10],\n",
    "    'class_weight': [None, 'balanced', {0: 1, 1: 10}]\n",
    "}"
   ]
  },
  {
   "cell_type": "code",
   "execution_count": 27,
   "id": "b4b67a43",
   "metadata": {},
   "outputs": [
    {
     "name": "stdout",
     "output_type": "stream",
     "text": [
      "Fitting 5 folds for each of 9 candidates, totalling 45 fits\n"
     ]
    },
    {
     "data": {
      "text/html": [
       "<style>#sk-container-id-1 {color: black;background-color: white;}#sk-container-id-1 pre{padding: 0;}#sk-container-id-1 div.sk-toggleable {background-color: white;}#sk-container-id-1 label.sk-toggleable__label {cursor: pointer;display: block;width: 100%;margin-bottom: 0;padding: 0.3em;box-sizing: border-box;text-align: center;}#sk-container-id-1 label.sk-toggleable__label-arrow:before {content: \"▸\";float: left;margin-right: 0.25em;color: #696969;}#sk-container-id-1 label.sk-toggleable__label-arrow:hover:before {color: black;}#sk-container-id-1 div.sk-estimator:hover label.sk-toggleable__label-arrow:before {color: black;}#sk-container-id-1 div.sk-toggleable__content {max-height: 0;max-width: 0;overflow: hidden;text-align: left;background-color: #f0f8ff;}#sk-container-id-1 div.sk-toggleable__content pre {margin: 0.2em;color: black;border-radius: 0.25em;background-color: #f0f8ff;}#sk-container-id-1 input.sk-toggleable__control:checked~div.sk-toggleable__content {max-height: 200px;max-width: 100%;overflow: auto;}#sk-container-id-1 input.sk-toggleable__control:checked~label.sk-toggleable__label-arrow:before {content: \"▾\";}#sk-container-id-1 div.sk-estimator input.sk-toggleable__control:checked~label.sk-toggleable__label {background-color: #d4ebff;}#sk-container-id-1 div.sk-label input.sk-toggleable__control:checked~label.sk-toggleable__label {background-color: #d4ebff;}#sk-container-id-1 input.sk-hidden--visually {border: 0;clip: rect(1px 1px 1px 1px);clip: rect(1px, 1px, 1px, 1px);height: 1px;margin: -1px;overflow: hidden;padding: 0;position: absolute;width: 1px;}#sk-container-id-1 div.sk-estimator {font-family: monospace;background-color: #f0f8ff;border: 1px dotted black;border-radius: 0.25em;box-sizing: border-box;margin-bottom: 0.5em;}#sk-container-id-1 div.sk-estimator:hover {background-color: #d4ebff;}#sk-container-id-1 div.sk-parallel-item::after {content: \"\";width: 100%;border-bottom: 1px solid gray;flex-grow: 1;}#sk-container-id-1 div.sk-label:hover label.sk-toggleable__label {background-color: #d4ebff;}#sk-container-id-1 div.sk-serial::before {content: \"\";position: absolute;border-left: 1px solid gray;box-sizing: border-box;top: 0;bottom: 0;left: 50%;z-index: 0;}#sk-container-id-1 div.sk-serial {display: flex;flex-direction: column;align-items: center;background-color: white;padding-right: 0.2em;padding-left: 0.2em;position: relative;}#sk-container-id-1 div.sk-item {position: relative;z-index: 1;}#sk-container-id-1 div.sk-parallel {display: flex;align-items: stretch;justify-content: center;background-color: white;position: relative;}#sk-container-id-1 div.sk-item::before, #sk-container-id-1 div.sk-parallel-item::before {content: \"\";position: absolute;border-left: 1px solid gray;box-sizing: border-box;top: 0;bottom: 0;left: 50%;z-index: -1;}#sk-container-id-1 div.sk-parallel-item {display: flex;flex-direction: column;z-index: 1;position: relative;background-color: white;}#sk-container-id-1 div.sk-parallel-item:first-child::after {align-self: flex-end;width: 50%;}#sk-container-id-1 div.sk-parallel-item:last-child::after {align-self: flex-start;width: 50%;}#sk-container-id-1 div.sk-parallel-item:only-child::after {width: 0;}#sk-container-id-1 div.sk-dashed-wrapped {border: 1px dashed gray;margin: 0 0.4em 0.5em 0.4em;box-sizing: border-box;padding-bottom: 0.4em;background-color: white;}#sk-container-id-1 div.sk-label label {font-family: monospace;font-weight: bold;display: inline-block;line-height: 1.2em;}#sk-container-id-1 div.sk-label-container {text-align: center;}#sk-container-id-1 div.sk-container {/* jupyter's `normalize.less` sets `[hidden] { display: none; }` but bootstrap.min.css set `[hidden] { display: none !important; }` so we also need the `!important` here to be able to override the default hidden behavior on the sphinx rendered scikit-learn.org. See: https://github.com/scikit-learn/scikit-learn/issues/21755 */display: inline-block !important;position: relative;}#sk-container-id-1 div.sk-text-repr-fallback {display: none;}</style><div id=\"sk-container-id-1\" class=\"sk-top-container\"><div class=\"sk-text-repr-fallback\"><pre>GridSearchCV(cv=5, estimator=RandomForestClassifier(),\n",
       "             param_grid={&#x27;class_weight&#x27;: [None, &#x27;balanced&#x27;, {0: 1, 1: 10}],\n",
       "                         &#x27;max_depth&#x27;: [None, 5, 10], &#x27;n_estimators&#x27;: [50]},\n",
       "             scoring=&#x27;roc_auc&#x27;, verbose=1)</pre><b>In a Jupyter environment, please rerun this cell to show the HTML representation or trust the notebook. <br />On GitHub, the HTML representation is unable to render, please try loading this page with nbviewer.org.</b></div><div class=\"sk-container\" hidden><div class=\"sk-item sk-dashed-wrapped\"><div class=\"sk-label-container\"><div class=\"sk-label sk-toggleable\"><input class=\"sk-toggleable__control sk-hidden--visually\" id=\"sk-estimator-id-1\" type=\"checkbox\" ><label for=\"sk-estimator-id-1\" class=\"sk-toggleable__label sk-toggleable__label-arrow\">GridSearchCV</label><div class=\"sk-toggleable__content\"><pre>GridSearchCV(cv=5, estimator=RandomForestClassifier(),\n",
       "             param_grid={&#x27;class_weight&#x27;: [None, &#x27;balanced&#x27;, {0: 1, 1: 10}],\n",
       "                         &#x27;max_depth&#x27;: [None, 5, 10], &#x27;n_estimators&#x27;: [50]},\n",
       "             scoring=&#x27;roc_auc&#x27;, verbose=1)</pre></div></div></div><div class=\"sk-parallel\"><div class=\"sk-parallel-item\"><div class=\"sk-item\"><div class=\"sk-label-container\"><div class=\"sk-label sk-toggleable\"><input class=\"sk-toggleable__control sk-hidden--visually\" id=\"sk-estimator-id-2\" type=\"checkbox\" ><label for=\"sk-estimator-id-2\" class=\"sk-toggleable__label sk-toggleable__label-arrow\">estimator: RandomForestClassifier</label><div class=\"sk-toggleable__content\"><pre>RandomForestClassifier()</pre></div></div></div><div class=\"sk-serial\"><div class=\"sk-item\"><div class=\"sk-estimator sk-toggleable\"><input class=\"sk-toggleable__control sk-hidden--visually\" id=\"sk-estimator-id-3\" type=\"checkbox\" ><label for=\"sk-estimator-id-3\" class=\"sk-toggleable__label sk-toggleable__label-arrow\">RandomForestClassifier</label><div class=\"sk-toggleable__content\"><pre>RandomForestClassifier()</pre></div></div></div></div></div></div></div></div></div></div>"
      ],
      "text/plain": [
       "GridSearchCV(cv=5, estimator=RandomForestClassifier(),\n",
       "             param_grid={'class_weight': [None, 'balanced', {0: 1, 1: 10}],\n",
       "                         'max_depth': [None, 5, 10], 'n_estimators': [50]},\n",
       "             scoring='roc_auc', verbose=1)"
      ]
     },
     "execution_count": 27,
     "metadata": {},
     "output_type": "execute_result"
    }
   ],
   "source": [
    "rf_models = GridSearchCV(RandomForestClassifier(), param_grid=param_grid, cv=5, verbose=1,scoring='roc_auc')\n",
    "rf_models.fit(X_resampled, y_resampled)"
   ]
  },
  {
   "cell_type": "code",
   "execution_count": 28,
   "id": "aceed650",
   "metadata": {},
   "outputs": [],
   "source": [
    "predictions = rf_models.predict(X_val)"
   ]
  },
  {
   "cell_type": "code",
   "execution_count": 29,
   "id": "b3f2d759",
   "metadata": {},
   "outputs": [
    {
     "data": {
      "text/plain": [
       "array([[40923,    47],\n",
       "       [   88,     0]])"
      ]
     },
     "execution_count": 29,
     "metadata": {},
     "output_type": "execute_result"
    }
   ],
   "source": [
    "confusion_matrix(y_val, predictions)"
   ]
  },
  {
   "cell_type": "code",
   "execution_count": 30,
   "id": "b2bce1df",
   "metadata": {},
   "outputs": [],
   "source": [
    "auprc_3 = average_precision_score(y_val,predictions)\n",
    "auc_3 = roc_auc_score(y_val, predictions)"
   ]
  },
  {
   "cell_type": "code",
   "execution_count": 31,
   "id": "68de5a81",
   "metadata": {},
   "outputs": [
    {
     "name": "stdout",
     "output_type": "stream",
     "text": [
      "AUPRC: 0.008588104379423976\n",
      "AUC: 0.5113026161049105\n",
      "AUPRC 2: 0.005250478837115914\n",
      "AUC 2: 0.7401366299065835\n",
      "AUPRC 3: 0.00214330946465975\n",
      "AUC 3: 0.49942640956797657\n"
     ]
    }
   ],
   "source": [
    "print(\"AUPRC:\", auprc)\n",
    "print(\"AUC:\", auc)\n",
    "\n",
    "print(\"AUPRC 2:\", auprc_2)\n",
    "print(\"AUC 2:\", auc_2)\n",
    "\n",
    "print(\"AUPRC 3:\", auprc_3)\n",
    "print(\"AUC 3:\", auc_3)\n"
   ]
  },
  {
   "cell_type": "markdown",
   "id": "1ff356bc",
   "metadata": {},
   "source": [
    "# Undersampling"
   ]
  },
  {
   "cell_type": "code",
   "execution_count": 32,
   "id": "2e8cb6ae",
   "metadata": {},
   "outputs": [],
   "source": [
    "from sklearn.utils import resample"
   ]
  },
  {
   "cell_type": "code",
   "execution_count": 33,
   "id": "d54fc5a8",
   "metadata": {},
   "outputs": [],
   "source": [
    "# Separate the majority and minority classes\n",
    "majority_class = df[df['Class'] == 0]\n",
    "minority_class = df[df['Class'] == 1]\n",
    "\n",
    "# Determine the undersampling ratio\n",
    "undersampling_ratio = 1  # Adjust this based on desired ratio\n",
    "\n",
    "# Undersample the majority class\n",
    "undersampled_majority = resample(majority_class,\n",
    "                                 replace=False,  # Set to False for undersampling\n",
    "                                 n_samples=len(minority_class) * undersampling_ratio,\n",
    "                                 random_state=42)\n",
    "\n",
    "# Combine the minority class and the undersampled majority class\n",
    "undersampled_data = pd.concat([undersampled_majority, minority_class])\n",
    "\n",
    "# Shuffle the dataset\n",
    "undersampled_data = undersampled_data.sample(frac=1, random_state=42)"
   ]
  },
  {
   "cell_type": "code",
   "execution_count": 34,
   "id": "d68fa124",
   "metadata": {},
   "outputs": [],
   "source": [
    "labels_us = undersampled_data.Class\n",
    "X_undersampled = undersampled_data.drop('Class', axis=1)"
   ]
  },
  {
   "cell_type": "code",
   "execution_count": 35,
   "id": "e4efa691",
   "metadata": {},
   "outputs": [],
   "source": [
    "X_train_us, X_val_us, y_train_us, y_val_us = train_test_split(X_undersampled, labels_us, test_size=0.25, random_state = 5)"
   ]
  },
  {
   "cell_type": "code",
   "execution_count": 36,
   "id": "a17b5120",
   "metadata": {},
   "outputs": [],
   "source": [
    "clf_us = LogisticRegression(random_state=0, max_iter=10000).fit(X_train_us, y_train_us)"
   ]
  },
  {
   "cell_type": "code",
   "execution_count": 37,
   "id": "41c4dd73",
   "metadata": {},
   "outputs": [],
   "source": [
    "y_pred_us = clf_us.predict(X_val_us)"
   ]
  },
  {
   "cell_type": "code",
   "execution_count": 38,
   "id": "e3f82d84",
   "metadata": {},
   "outputs": [
    {
     "data": {
      "text/plain": [
       "array([[61, 16],\n",
       "       [36, 64]])"
      ]
     },
     "execution_count": 38,
     "metadata": {},
     "output_type": "execute_result"
    }
   ],
   "source": [
    "confusion_matrix(y_val_us, y_pred_us)"
   ]
  },
  {
   "cell_type": "code",
   "execution_count": 39,
   "id": "2625757b",
   "metadata": {},
   "outputs": [],
   "source": [
    "auprc_4 = average_precision_score(y_val_us,y_pred_us)\n",
    "auc_4 = roc_auc_score(y_val_us, y_pred_us)"
   ]
  },
  {
   "cell_type": "code",
   "execution_count": 40,
   "id": "601aac36",
   "metadata": {},
   "outputs": [
    {
     "name": "stdout",
     "output_type": "stream",
     "text": [
      "AUPRC: 0.008588104379423976\n",
      "AUC: 0.5113026161049105\n",
      "AUPRC 2: 0.005250478837115914\n",
      "AUC 2: 0.7401366299065835\n",
      "AUPRC 3: 0.00214330946465975\n",
      "AUC 3: 0.49942640956797657\n",
      "AUPRC 4: 0.7153898305084746\n",
      "AUC 4: 0.7161038961038961\n"
     ]
    }
   ],
   "source": [
    "print(\"AUPRC:\", auprc)\n",
    "print(\"AUC:\", auc)\n",
    "\n",
    "print(\"AUPRC 2:\", auprc_2)\n",
    "print(\"AUC 2:\", auc_2)\n",
    "\n",
    "print(\"AUPRC 3:\", auprc_3)\n",
    "print(\"AUC 3:\", auc_3)\n",
    "\n",
    "print(\"AUPRC 4:\", auprc_4)\n",
    "print(\"AUC 4:\", auc_4)\n"
   ]
  },
  {
   "cell_type": "markdown",
   "id": "8b08d8be",
   "metadata": {},
   "source": [
    "# Random Forest with undersampling"
   ]
  },
  {
   "cell_type": "code",
   "execution_count": 41,
   "id": "6427afba",
   "metadata": {},
   "outputs": [],
   "source": [
    "# Using Grid Search to find the best parameters\n",
    "param_grid = {\n",
    "    'n_estimators': [50],\n",
    "    'max_depth' : [None,5,10],\n",
    "    'class_weight': [None, 'balanced', {0: 1, 1: 10}]\n",
    "}"
   ]
  },
  {
   "cell_type": "code",
   "execution_count": 42,
   "id": "9e3edcdb",
   "metadata": {},
   "outputs": [
    {
     "name": "stdout",
     "output_type": "stream",
     "text": [
      "Fitting 5 folds for each of 9 candidates, totalling 45 fits\n"
     ]
    },
    {
     "data": {
      "text/html": [
       "<style>#sk-container-id-2 {color: black;background-color: white;}#sk-container-id-2 pre{padding: 0;}#sk-container-id-2 div.sk-toggleable {background-color: white;}#sk-container-id-2 label.sk-toggleable__label {cursor: pointer;display: block;width: 100%;margin-bottom: 0;padding: 0.3em;box-sizing: border-box;text-align: center;}#sk-container-id-2 label.sk-toggleable__label-arrow:before {content: \"▸\";float: left;margin-right: 0.25em;color: #696969;}#sk-container-id-2 label.sk-toggleable__label-arrow:hover:before {color: black;}#sk-container-id-2 div.sk-estimator:hover label.sk-toggleable__label-arrow:before {color: black;}#sk-container-id-2 div.sk-toggleable__content {max-height: 0;max-width: 0;overflow: hidden;text-align: left;background-color: #f0f8ff;}#sk-container-id-2 div.sk-toggleable__content pre {margin: 0.2em;color: black;border-radius: 0.25em;background-color: #f0f8ff;}#sk-container-id-2 input.sk-toggleable__control:checked~div.sk-toggleable__content {max-height: 200px;max-width: 100%;overflow: auto;}#sk-container-id-2 input.sk-toggleable__control:checked~label.sk-toggleable__label-arrow:before {content: \"▾\";}#sk-container-id-2 div.sk-estimator input.sk-toggleable__control:checked~label.sk-toggleable__label {background-color: #d4ebff;}#sk-container-id-2 div.sk-label input.sk-toggleable__control:checked~label.sk-toggleable__label {background-color: #d4ebff;}#sk-container-id-2 input.sk-hidden--visually {border: 0;clip: rect(1px 1px 1px 1px);clip: rect(1px, 1px, 1px, 1px);height: 1px;margin: -1px;overflow: hidden;padding: 0;position: absolute;width: 1px;}#sk-container-id-2 div.sk-estimator {font-family: monospace;background-color: #f0f8ff;border: 1px dotted black;border-radius: 0.25em;box-sizing: border-box;margin-bottom: 0.5em;}#sk-container-id-2 div.sk-estimator:hover {background-color: #d4ebff;}#sk-container-id-2 div.sk-parallel-item::after {content: \"\";width: 100%;border-bottom: 1px solid gray;flex-grow: 1;}#sk-container-id-2 div.sk-label:hover label.sk-toggleable__label {background-color: #d4ebff;}#sk-container-id-2 div.sk-serial::before {content: \"\";position: absolute;border-left: 1px solid gray;box-sizing: border-box;top: 0;bottom: 0;left: 50%;z-index: 0;}#sk-container-id-2 div.sk-serial {display: flex;flex-direction: column;align-items: center;background-color: white;padding-right: 0.2em;padding-left: 0.2em;position: relative;}#sk-container-id-2 div.sk-item {position: relative;z-index: 1;}#sk-container-id-2 div.sk-parallel {display: flex;align-items: stretch;justify-content: center;background-color: white;position: relative;}#sk-container-id-2 div.sk-item::before, #sk-container-id-2 div.sk-parallel-item::before {content: \"\";position: absolute;border-left: 1px solid gray;box-sizing: border-box;top: 0;bottom: 0;left: 50%;z-index: -1;}#sk-container-id-2 div.sk-parallel-item {display: flex;flex-direction: column;z-index: 1;position: relative;background-color: white;}#sk-container-id-2 div.sk-parallel-item:first-child::after {align-self: flex-end;width: 50%;}#sk-container-id-2 div.sk-parallel-item:last-child::after {align-self: flex-start;width: 50%;}#sk-container-id-2 div.sk-parallel-item:only-child::after {width: 0;}#sk-container-id-2 div.sk-dashed-wrapped {border: 1px dashed gray;margin: 0 0.4em 0.5em 0.4em;box-sizing: border-box;padding-bottom: 0.4em;background-color: white;}#sk-container-id-2 div.sk-label label {font-family: monospace;font-weight: bold;display: inline-block;line-height: 1.2em;}#sk-container-id-2 div.sk-label-container {text-align: center;}#sk-container-id-2 div.sk-container {/* jupyter's `normalize.less` sets `[hidden] { display: none; }` but bootstrap.min.css set `[hidden] { display: none !important; }` so we also need the `!important` here to be able to override the default hidden behavior on the sphinx rendered scikit-learn.org. See: https://github.com/scikit-learn/scikit-learn/issues/21755 */display: inline-block !important;position: relative;}#sk-container-id-2 div.sk-text-repr-fallback {display: none;}</style><div id=\"sk-container-id-2\" class=\"sk-top-container\"><div class=\"sk-text-repr-fallback\"><pre>GridSearchCV(cv=5, estimator=RandomForestClassifier(),\n",
       "             param_grid={&#x27;class_weight&#x27;: [None, &#x27;balanced&#x27;, {0: 1, 1: 10}],\n",
       "                         &#x27;max_depth&#x27;: [None, 5, 10], &#x27;n_estimators&#x27;: [50]},\n",
       "             scoring=&#x27;roc_auc&#x27;, verbose=1)</pre><b>In a Jupyter environment, please rerun this cell to show the HTML representation or trust the notebook. <br />On GitHub, the HTML representation is unable to render, please try loading this page with nbviewer.org.</b></div><div class=\"sk-container\" hidden><div class=\"sk-item sk-dashed-wrapped\"><div class=\"sk-label-container\"><div class=\"sk-label sk-toggleable\"><input class=\"sk-toggleable__control sk-hidden--visually\" id=\"sk-estimator-id-4\" type=\"checkbox\" ><label for=\"sk-estimator-id-4\" class=\"sk-toggleable__label sk-toggleable__label-arrow\">GridSearchCV</label><div class=\"sk-toggleable__content\"><pre>GridSearchCV(cv=5, estimator=RandomForestClassifier(),\n",
       "             param_grid={&#x27;class_weight&#x27;: [None, &#x27;balanced&#x27;, {0: 1, 1: 10}],\n",
       "                         &#x27;max_depth&#x27;: [None, 5, 10], &#x27;n_estimators&#x27;: [50]},\n",
       "             scoring=&#x27;roc_auc&#x27;, verbose=1)</pre></div></div></div><div class=\"sk-parallel\"><div class=\"sk-parallel-item\"><div class=\"sk-item\"><div class=\"sk-label-container\"><div class=\"sk-label sk-toggleable\"><input class=\"sk-toggleable__control sk-hidden--visually\" id=\"sk-estimator-id-5\" type=\"checkbox\" ><label for=\"sk-estimator-id-5\" class=\"sk-toggleable__label sk-toggleable__label-arrow\">estimator: RandomForestClassifier</label><div class=\"sk-toggleable__content\"><pre>RandomForestClassifier()</pre></div></div></div><div class=\"sk-serial\"><div class=\"sk-item\"><div class=\"sk-estimator sk-toggleable\"><input class=\"sk-toggleable__control sk-hidden--visually\" id=\"sk-estimator-id-6\" type=\"checkbox\" ><label for=\"sk-estimator-id-6\" class=\"sk-toggleable__label sk-toggleable__label-arrow\">RandomForestClassifier</label><div class=\"sk-toggleable__content\"><pre>RandomForestClassifier()</pre></div></div></div></div></div></div></div></div></div></div>"
      ],
      "text/plain": [
       "GridSearchCV(cv=5, estimator=RandomForestClassifier(),\n",
       "             param_grid={'class_weight': [None, 'balanced', {0: 1, 1: 10}],\n",
       "                         'max_depth': [None, 5, 10], 'n_estimators': [50]},\n",
       "             scoring='roc_auc', verbose=1)"
      ]
     },
     "execution_count": 42,
     "metadata": {},
     "output_type": "execute_result"
    }
   ],
   "source": [
    "rf_models_us = GridSearchCV(RandomForestClassifier(), param_grid=param_grid, cv=5, verbose=1,scoring='roc_auc')\n",
    "rf_models_us.fit(X_train_us, y_train_us)"
   ]
  },
  {
   "cell_type": "code",
   "execution_count": 43,
   "id": "7c4b6627",
   "metadata": {},
   "outputs": [],
   "source": [
    "predictions_us = rf_models_us.predict(X_val_us)"
   ]
  },
  {
   "cell_type": "code",
   "execution_count": 44,
   "id": "c909ad70",
   "metadata": {},
   "outputs": [
    {
     "data": {
      "text/plain": [
       "array([[60, 17],\n",
       "       [35, 65]])"
      ]
     },
     "execution_count": 44,
     "metadata": {},
     "output_type": "execute_result"
    }
   ],
   "source": [
    "confusion_matrix(y_val_us, predictions_us)"
   ]
  },
  {
   "cell_type": "code",
   "execution_count": 45,
   "id": "52516a8f",
   "metadata": {},
   "outputs": [],
   "source": [
    "auprc_5 = average_precision_score(y_val_us,predictions_us)\n",
    "auc_5 = roc_auc_score(y_val_us, predictions_us)"
   ]
  },
  {
   "cell_type": "code",
   "execution_count": 46,
   "id": "e2c8b199",
   "metadata": {},
   "outputs": [
    {
     "name": "stdout",
     "output_type": "stream",
     "text": [
      "AUPRC: 0.008588104379423976\n",
      "AUC: 0.5113026161049105\n",
      "AUPRC 2: 0.005250478837115914\n",
      "AUC 2: 0.7401366299065835\n",
      "AUPRC 3: 0.00214330946465975\n",
      "AUC 3: 0.49942640956797657\n",
      "AUPRC 4: 0.7153898305084746\n",
      "AUC 4: 0.7161038961038961\n",
      "AUPRC 5: 0.7129840154333746\n",
      "AUC 5: 0.7146103896103897\n"
     ]
    }
   ],
   "source": [
    "print(\"AUPRC:\", auprc)\n",
    "print(\"AUC:\", auc)\n",
    "\n",
    "print(\"AUPRC 2:\", auprc_2)\n",
    "print(\"AUC 2:\", auc_2)\n",
    "\n",
    "print(\"AUPRC 3:\", auprc_3)\n",
    "print(\"AUC 3:\", auc_3)\n",
    "\n",
    "print(\"AUPRC 4:\", auprc_4)\n",
    "print(\"AUC 4:\", auc_4)\n",
    "\n",
    "print(\"AUPRC 5:\", auprc_5)\n",
    "print(\"AUC 5:\", auc_5)"
   ]
  },
  {
   "cell_type": "markdown",
   "id": "2c4dc5e5",
   "metadata": {},
   "source": [
    "Modelo de escolha: Regressão Logística usando Undersampling. Embora o modelo random forest com grid search usando undersampling possa pontuar mais (a depender do acaso), escolhemos a regressão logística por ela ser mais simples, o que faz-nos acreditar que tem maior capacidade de generalização. Ambos os modelos pontuam melhor com Undersampling do que com a técnica SMOTE (valores de AUC e AUPRC mais próximos de 1)"
   ]
  },
  {
   "cell_type": "code",
   "execution_count": 49,
   "id": "4e78fe66",
   "metadata": {},
   "outputs": [
    {
     "ename": "AttributeError",
     "evalue": "'Series' object has no attribute 'iteritems'",
     "output_type": "error",
     "traceback": [
      "\u001b[0;31m---------------------------------------------------------------------------\u001b[0m",
      "\u001b[0;31mAttributeError\u001b[0m                            Traceback (most recent call last)",
      "\u001b[0;32m/tmp/ipykernel_83628/676296485.py\u001b[0m in \u001b[0;36m?\u001b[0;34m()\u001b[0m\n\u001b[0;32m----> 1\u001b[0;31m \u001b[0mtype\u001b[0m\u001b[0;34m(\u001b[0m\u001b[0mX_train_us\u001b[0m\u001b[0;34m[\u001b[0m\u001b[0;34m'V1'\u001b[0m\u001b[0;34m]\u001b[0m\u001b[0;34m.\u001b[0m\u001b[0miteritems\u001b[0m\u001b[0;34m(\u001b[0m\u001b[0;34m)\u001b[0m\u001b[0;34m)\u001b[0m\u001b[0;34m\u001b[0m\u001b[0;34m\u001b[0m\u001b[0m\n\u001b[0m",
      "\u001b[0;32m~/.local/lib/python3.11/site-packages/pandas/core/generic.py\u001b[0m in \u001b[0;36m?\u001b[0;34m(self, name)\u001b[0m\n\u001b[1;32m   5985\u001b[0m             \u001b[0;32mand\u001b[0m \u001b[0mname\u001b[0m \u001b[0;32mnot\u001b[0m \u001b[0;32min\u001b[0m \u001b[0mself\u001b[0m\u001b[0;34m.\u001b[0m\u001b[0m_accessors\u001b[0m\u001b[0;34m\u001b[0m\u001b[0;34m\u001b[0m\u001b[0m\n\u001b[1;32m   5986\u001b[0m             \u001b[0;32mand\u001b[0m \u001b[0mself\u001b[0m\u001b[0;34m.\u001b[0m\u001b[0m_info_axis\u001b[0m\u001b[0;34m.\u001b[0m\u001b[0m_can_hold_identifiers_and_holds_name\u001b[0m\u001b[0;34m(\u001b[0m\u001b[0mname\u001b[0m\u001b[0;34m)\u001b[0m\u001b[0;34m\u001b[0m\u001b[0;34m\u001b[0m\u001b[0m\n\u001b[1;32m   5987\u001b[0m         ):\n\u001b[1;32m   5988\u001b[0m             \u001b[0;32mreturn\u001b[0m \u001b[0mself\u001b[0m\u001b[0;34m[\u001b[0m\u001b[0mname\u001b[0m\u001b[0;34m]\u001b[0m\u001b[0;34m\u001b[0m\u001b[0;34m\u001b[0m\u001b[0m\n\u001b[0;32m-> 5989\u001b[0;31m         \u001b[0;32mreturn\u001b[0m \u001b[0mobject\u001b[0m\u001b[0;34m.\u001b[0m\u001b[0m__getattribute__\u001b[0m\u001b[0;34m(\u001b[0m\u001b[0mself\u001b[0m\u001b[0;34m,\u001b[0m \u001b[0mname\u001b[0m\u001b[0;34m)\u001b[0m\u001b[0;34m\u001b[0m\u001b[0;34m\u001b[0m\u001b[0m\n\u001b[0m",
      "\u001b[0;31mAttributeError\u001b[0m: 'Series' object has no attribute 'iteritems'"
     ]
    }
   ],
   "source": [
    "type(X_train_us['V1'].iteritems())"
   ]
  },
  {
   "cell_type": "code",
   "execution_count": null,
   "id": "ff1bad26",
   "metadata": {},
   "outputs": [],
   "source": []
  }
 ],
 "metadata": {
  "kernelspec": {
   "display_name": "Python 3 (ipykernel)",
   "language": "python",
   "name": "python3"
  },
  "language_info": {
   "codemirror_mode": {
    "name": "ipython",
    "version": 3
   },
   "file_extension": ".py",
   "mimetype": "text/x-python",
   "name": "python",
   "nbconvert_exporter": "python",
   "pygments_lexer": "ipython3",
   "version": "3.11.3"
  }
 },
 "nbformat": 4,
 "nbformat_minor": 5
}
